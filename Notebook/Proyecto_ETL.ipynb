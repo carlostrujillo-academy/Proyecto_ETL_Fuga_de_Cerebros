{
 "cells": [
  {
   "cell_type": "markdown",
   "metadata": {},
   "source": [
    "# Proyecto ETL Migración y Salarios\n",
    "\n",
    "Este notebook carga automáticamente el proyecto desde GitHub y ejecuta los scripts.\n",
    "No necesitas clonar el repositorio en tu PC, simplemente ejecútalo en Google Colab."
   ]
  },
  {
   "cell_type": "code",
   "execution_count": null,
   "metadata": {},
   "outputs": [],
   "source": [
    "# Instalar dependencias del proyecto\n",
    "!pip install -r https://raw.githubusercontent.com/tuusuario/Proyecto_ETL_Fuga_de_Cerebros/main/requirements.txt"
   ]
  },
  {
   "cell_type": "code",
   "execution_count": null,
   "metadata": {},
   "outputs": [],
   "source": [
    "# Descargar el repositorio temporalmente en Colab\n",
    "!git clone https://github.com/tuusuario/Proyecto_ETL_Fuga_de_Cerebros.git\n",
    "%cd Proyecto_ETL_Fuga_de_Cerebros"
   ]
  },
  {
   "cell_type": "code",
   "execution_count": null,
   "metadata": {},
   "outputs": [],
   "source": [
    "# Ejecutar script principal\n",
    "!python src/main.py"
   ]
  },
  {
   "cell_type": "code",
   "execution_count": null,
   "metadata": {},
   "outputs": [],
   "source": [
    "# Si quieres correr el scraper de salarios\n",
    "!python src/scraper_salarios.py"
   ]
  },
  {
   "cell_type": "code",
   "execution_count": null,
   "metadata": {},
   "outputs": [],
   "source": [
    "# Si quieres correr el módulo de geolocalización\n",
    "!python src/geolocalizacion.py"
   ]
  }
 ],
 "metadata": {
  "colab": {
   "provenance": []
  },
  "kernelspec": {
   "display_name": "Python 3",
   "language": "python",
   "name": "python3"
  },
  "language_info": {
   "name": "python"
  }
 },
 "nbformat": 4,
 "nbformat_minor": 0
}
