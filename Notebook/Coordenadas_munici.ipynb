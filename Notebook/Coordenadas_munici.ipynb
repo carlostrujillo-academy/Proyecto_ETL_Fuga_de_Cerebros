{
 "cells": [
  {
   "cell_type": "code",
   "execution_count": 1,
   "id": "bf4668fd",
   "metadata": {
    "lines_to_next_cell": 0,
    "title": "Geolocalización de ciudades colombianas"
   },
   "outputs": [],
   "source": [
    "import pandas as pd\n",
    "from geopy.geocoders import Nominatim\n",
    "import time\n",
    "import sys\n",
    "import os"
   ]
  },
  {
   "cell_type": "code",
   "execution_count": null,
   "id": "099d67d5",
   "metadata": {},
   "outputs": [
    {
     "name": "stdout",
     "output_type": "stream",
     "text": [
      "Paths configurados correctamente\n"
     ]
    }
   ],
   "source": [
    "# Definición de rutas para importar y exportar datos repocitorio local\n",
    "\n",
    "# Definición de rutas para importar y exportar datos repocitorio local // \"EN ESTE ESPACIO DEBE IR LA RUTA DONDE DESEA GUARDAR SU PROYECTO.\"\n",
    "raiz = r'RUTA DE SU PROYECTO\\\\Proyecto_ETL_Fuga_de_Cerebros' #<==================DEBES COLOCAR TU RUTA AQUI Pero siempre respetar el \\\\Proyecto_ETL_Fuga_de_Cerebros'\n",
    "\n",
    "paths = {\n",
    "     'path_import': f\"{raiz}\\\\data\\\\import\",\n",
    "     'path_export': f\"{raiz}\\\\data\\\\export\",\n",
    "\n",
    "}\n",
    "\n",
    "print('Paths configurados correctamente')\n"
   ]
  },
  {
   "cell_type": "code",
   "execution_count": null,
   "id": "661d853e",
   "metadata": {},
   "outputs": [
    {
     "name": "stdout",
     "output_type": "stream",
     "text": [
      "Archivo leído correctamente ✅\n",
      "Filas: 421\n",
      "Columnas: 5\n",
      "  Pais de Nacimiento Departamento/Estado.1 Ciudad_Origen  Latitud  Longitud\n",
      "0           COLOMBIA    NORTE DE SANTANDER     AGUACLARA      NaN       NaN\n",
      "1           COLOMBIA                BOYACA       AGUAZUL      NaN       NaN\n",
      "2           COLOMBIA       VALLE DEL CAUCA         ALBAN      NaN       NaN\n",
      "3           COLOMBIA             ANTIOQUIA      ALTAMIRA      NaN       NaN\n",
      "4           COLOMBIA                NARIÑO      ALTAMIRA      NaN       NaN\n"
     ]
    }
   ],
   "source": [
    "# === CONFIGURACIÓN DE RUTAS y llamado de data ===\n",
    "\n",
    "#Configuración de rutas de archivos\n",
    "municipios_import = os.path.join(paths['path_import'], 'validacion_municipios.xlsx')\n",
    "municipios_export = os.path.join(paths['path_export'], 'Ciudades_colombianas_con_coordenadas.xlsx')\n",
    "# Nombre del archivo de entrada\n",
    "archivo_entrada = municipios_import\n",
    "archivo_salida = municipios_export\n",
    "\n",
    "# Nombre de la hoja que contiene los datos\n",
    "hoja = \"ciudades_paises\"\n",
    "\n",
    "# === CARGAR DATOS ===\n",
    "df = pd.read_excel(archivo_entrada, sheet_name=hoja)\n",
    "\n",
    "print(\"Archivo leído correctamente ✅\")\n",
    "print(\"Filas:\", df.shape[0])\n",
    "print(\"Columnas:\", df.shape[1])\n",
    "print(df.head())"
   ]
  },
  {
   "cell_type": "code",
   "execution_count": 5,
   "id": "7437dbaf",
   "metadata": {},
   "outputs": [
    {
     "name": "stdout",
     "output_type": "stream",
     "text": [
      "1/421 - AGUACLARA, NORTE DE SANTANDER -> None, None\n",
      "2/421 - AGUAZUL, BOYACA -> None, None\n",
      "3/421 - ALBAN, VALLE DEL CAUCA -> 4.7835097, -76.174142\n",
      "4/421 - ALTAMIRA, ANTIOQUIA -> 6.234076, -75.977152\n",
      "5/421 - ALTAMIRA, NARIÑO -> 1.1991961, -77.296115\n"
     ]
    },
    {
     "ename": "KeyboardInterrupt",
     "evalue": "",
     "output_type": "error",
     "traceback": [
      "\u001b[31m---------------------------------------------------------------------------\u001b[39m",
      "\u001b[31mKeyboardInterrupt\u001b[39m                         Traceback (most recent call last)",
      "\u001b[36mCell\u001b[39m\u001b[36m \u001b[39m\u001b[32mIn[5]\u001b[39m\u001b[32m, line 30\u001b[39m\n\u001b[32m     26\u001b[39m     df.at[i, \u001b[33m\"\u001b[39m\u001b[33mLongitud\u001b[39m\u001b[33m\"\u001b[39m] = lon\n\u001b[32m     28\u001b[39m     \u001b[38;5;28mprint\u001b[39m(\u001b[33mf\u001b[39m\u001b[33m\"\u001b[39m\u001b[38;5;132;01m{\u001b[39;00mi+\u001b[32m1\u001b[39m\u001b[38;5;132;01m}\u001b[39;00m\u001b[33m/\u001b[39m\u001b[38;5;132;01m{\u001b[39;00m\u001b[38;5;28mlen\u001b[39m(df)\u001b[38;5;132;01m}\u001b[39;00m\u001b[33m - \u001b[39m\u001b[38;5;132;01m{\u001b[39;00mciudad\u001b[38;5;132;01m}\u001b[39;00m\u001b[33m, \u001b[39m\u001b[38;5;132;01m{\u001b[39;00mdepto\u001b[38;5;132;01m}\u001b[39;00m\u001b[33m -> \u001b[39m\u001b[38;5;132;01m{\u001b[39;00mlat\u001b[38;5;132;01m}\u001b[39;00m\u001b[33m, \u001b[39m\u001b[38;5;132;01m{\u001b[39;00mlon\u001b[38;5;132;01m}\u001b[39;00m\u001b[33m\"\u001b[39m)\n\u001b[32m---> \u001b[39m\u001b[32m30\u001b[39m     \u001b[43mtime\u001b[49m\u001b[43m.\u001b[49m\u001b[43msleep\u001b[49m\u001b[43m(\u001b[49m\u001b[32;43m1.5\u001b[39;49m\u001b[43m)\u001b[49m  \u001b[38;5;66;03m# pausa para no saturar el servidor\u001b[39;00m\n\u001b[32m     32\u001b[39m \u001b[38;5;66;03m# === GUARDAR RESULTADOS ===\u001b[39;00m\n\u001b[32m     33\u001b[39m df.to_excel(archivo_salida, index=\u001b[38;5;28;01mFalse\u001b[39;00m)\n",
      "\u001b[31mKeyboardInterrupt\u001b[39m: "
     ]
    }
   ],
   "source": [
    "#========== Inicializar geocodificador ==========\n",
    "geolocator = Nominatim(user_agent=\"ciudades_colombia_locator\")\n",
    "\n",
    "def obtener_coordenadas(ciudad, departamento):\n",
    "    \"\"\"Busca coordenadas de una ciudad en Colombia\"\"\"\n",
    "    try:\n",
    "        location = geolocator.geocode(f\"{ciudad}, {departamento}, Colombia\", timeout=15)\n",
    "        if location:\n",
    "            return location.latitude, location.longitude\n",
    "    except Exception as e:\n",
    "        print(f\"Error con {ciudad}, {departamento}: {e}\")\n",
    "        return None, None\n",
    "    return None, None\n",
    "\n",
    "# Crear nuevas columnas\n",
    "df[\"Latitud\"] = None\n",
    "df[\"Longitud\"] = None\n",
    "\n",
    "# === PROCESO DE GEOCODIFICACIÓN ===\n",
    "for i, row in df.iterrows():\n",
    "    ciudad = row[\"Ciudad_Origen\"]\n",
    "    depto = row[\"Departamento/Estado.1\"]\n",
    "\n",
    "    lat, lon = obtener_coordenadas(ciudad, depto)\n",
    "    df.at[i, \"Latitud\"] = lat\n",
    "    df.at[i, \"Longitud\"] = lon\n",
    "\n",
    "    print(f\"{i+1}/{len(df)} - {ciudad}, {depto} -> {lat}, {lon}\")\n",
    "    \n",
    "    time.sleep(1.5)  # pausa para no saturar el servidor\n",
    "\n",
    "# === GUARDAR RESULTADOS ===\n",
    "df.to_excel(archivo_salida, index=False)\n",
    "print(f\"Archivo generado: {archivo_salida}\")\n",
    "\n",
    "#_________________________________________________________________________________________"
   ]
  }
 ],
 "metadata": {
  "jupytext": {
   "cell_metadata_filter": "title,-all",
   "main_language": "python",
   "notebook_metadata_filter": "-all"
  },
  "kernelspec": {
   "display_name": "Python 3",
   "language": "python",
   "name": "python3"
  },
  "language_info": {
   "codemirror_mode": {
    "name": "ipython",
    "version": 3
   },
   "file_extension": ".py",
   "mimetype": "text/x-python",
   "name": "python",
   "nbconvert_exporter": "python",
   "pygments_lexer": "ipython3",
   "version": "3.13.6"
  }
 },
 "nbformat": 4,
 "nbformat_minor": 5
}
