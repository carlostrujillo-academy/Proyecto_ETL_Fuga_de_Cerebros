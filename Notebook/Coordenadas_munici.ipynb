{
 "cells": [
  {
   "cell_type": "code",
   "execution_count": null,
   "id": "bf4668fd",
   "metadata": {
    "lines_to_next_cell": 0,
    "title": "Geolocalización de ciudades colombianas"
   },
   "outputs": [],
   "source": [
    "import pandas as pd\n",
    "from geopy.geocoders import Nominatim\n",
    "import time"
   ]
  },
  {
   "cell_type": "code",
   "execution_count": null,
   "id": "7437dbaf",
   "metadata": {},
   "outputs": [],
   "source": [
    "# === CONFIGURACIÓN ===\n",
    "# Nombre del archivo de entrada\n",
    "archivo_entrada = \"validacion_municipios.xlsx\"\n",
    "# Nombre del archivo de salida\n",
    "archivo_salida = \"Ciudades_colombianas_con_coordenadas.xlsx\"\n",
    "# Nombre de la hoja que contiene los datos\n",
    "hoja = \"ciudades_paises\"\n",
    "\n",
    "# === CARGAR DATOS ===\n",
    "df = pd.read_excel(archivo_entrada, sheet_name=hoja)\n",
    "\n",
    "# Inicializar geocodificador\n",
    "geolocator = Nominatim(user_agent=\"ciudades_colombia_locator\")\n",
    "\n",
    "def obtener_coordenadas(ciudad, departamento):\n",
    "    \"\"\"Busca coordenadas de una ciudad en Colombia\"\"\"\n",
    "    try:\n",
    "        location = geolocator.geocode(f\"{ciudad}, {departamento}, Colombia\", timeout=15)\n",
    "        if location:\n",
    "            return location.latitude, location.longitude\n",
    "    except Exception as e:\n",
    "        print(f\"Error con {ciudad}, {departamento}: {e}\")\n",
    "        return None, None\n",
    "    return None, None\n",
    "\n",
    "# Crear nuevas columnas\n",
    "df[\"Latitud\"] = None\n",
    "df[\"Longitud\"] = None\n",
    "\n",
    "# === PROCESO DE GEOCODIFICACIÓN ===\n",
    "for i, row in df.iterrows():\n",
    "    ciudad = row[\"Ciudad_Origen\"]\n",
    "    depto = row[\"Departamento/Estado.1\"]\n",
    "\n",
    "    lat, lon = obtener_coordenadas(ciudad, depto)\n",
    "    df.at[i, \"Latitud\"] = lat\n",
    "    df.at[i, \"Longitud\"] = lon\n",
    "\n",
    "    print(f\"{i+1}/{len(df)} - {ciudad}, {depto} -> {lat}, {lon}\")\n",
    "    \n",
    "    time.sleep(1.5)  # pausa para no saturar el servidor\n",
    "\n",
    "# === GUARDAR RESULTADOS ===\n",
    "df.to_excel(archivo_salida, index=False)\n",
    "print(f\"Archivo generado: {archivo_salida}\")\n",
    "\n",
    "#_________________________________________________________________________________________"
   ]
  }
 ],
 "metadata": {
  "jupytext": {
   "cell_metadata_filter": "title,-all",
   "main_language": "python",
   "notebook_metadata_filter": "-all"
  }
 },
 "nbformat": 4,
 "nbformat_minor": 5
}
